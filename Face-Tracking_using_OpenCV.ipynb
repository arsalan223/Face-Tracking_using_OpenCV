{
 "cells": [
  {
   "cell_type": "code",
   "execution_count": 1,
   "metadata": {},
   "outputs": [],
   "source": [
    "import cv2"
   ]
  },
  {
   "cell_type": "code",
   "execution_count": 103,
   "metadata": {},
   "outputs": [],
   "source": [
    "#loading target video\n",
    "video = cv2.VideoCapture(0)\n",
    "\n",
    "while True:\n",
    "    check, frame = video.read()\n",
    "\n",
    "    #faces_cascade contains the face features (which are saved in .xml file)\n",
    "    faces_cascade = cv2.CascadeClassifier('haarcascade_frontalface_default.xml')\n",
    "\n",
    "    #search the coordinates of faces (x,y) and width & height\n",
    "    faces = faces_cascade.detectMultiScale(frame, scaleFactor = 1.05, minNeighbors = 10)\n",
    "\n",
    "    #generating boxes on detected faces (array in 'faces'), x, y coordinates (starting from top-left as (0,0)), w as width & h as height of the face.\n",
    "    for x,y,w,h in faces:\n",
    "        result = cv2.rectangle(frame, (x, y), (x+w, y+h), (0,255,0), 2)\n",
    "    \n",
    "    #showing the output result\n",
    "    cv2.imshow('Output', result)\n",
    "    key = cv2.waitKey(1)\n",
    "    if key == ord('q'):\n",
    "        break\n",
    "\n",
    "video.release() #otherwise camera will remain captured\n",
    "\n",
    "cv2.destroyAllWindows() #close all windows"
   ]
  }
 ],
 "metadata": {
  "kernelspec": {
   "display_name": "Python 3",
   "language": "python",
   "name": "python3"
  },
  "language_info": {
   "codemirror_mode": {
    "name": "ipython",
    "version": 3
   },
   "file_extension": ".py",
   "mimetype": "text/x-python",
   "name": "python",
   "nbconvert_exporter": "python",
   "pygments_lexer": "ipython3",
   "version": "3.8.1"
  }
 },
 "nbformat": 4,
 "nbformat_minor": 4
}
